{
 "cells": [
  {
   "cell_type": "code",
   "execution_count": 229,
   "id": "9977de7e",
   "metadata": {},
   "outputs": [],
   "source": [
    "import os\n",
    "import csv\n",
    "\n",
    "    \n",
    "def extract_data_from_orca_output(directory = '/home/biswajit/Documents/Naman/analysis/sp', output_csv_name = 'output_csv', \\\n",
    "                            file_name='CN_6', file_type ='SP'):\n",
    "    data_list = []\n",
    "    d = []\n",
    "    \n",
    "    def is_float(value):\n",
    "        try:\n",
    "            float(value)\n",
    "            return True\n",
    "        except ValueError:\n",
    "            return False\n",
    "    \n",
    "    \n",
    "    if file_type == 'Opt':\n",
    "        # Geo opt out file\n",
    "        search_keywords = ['Final Gibbs free energy', 'G-E(el)']\n",
    "        freq_keyword = ['VIBRATIONAL FREQUENCIES']\n",
    "        f_name  = directory + '/' + '%s_opt.out'%(file_name)\n",
    "    elif file_type == 'SP':\n",
    "        # Single point out file\n",
    "        search_keywords = ['FINAL SINGLE POINT ENERGY']\n",
    "        f_name  = directory + '/' + '%s_sp.out'%(file_name)\n",
    "    \n",
    "    \n",
    "    \n",
    "    with open(f_name, 'r') as infile:\n",
    "        # check for negative frequency\n",
    "        freq_line_ndx = []\n",
    "        if file_type == 'Opt':\n",
    "            print('sss')\n",
    "            for line_number, line in enumerate(infile, start=1):\n",
    "                #if any(keyword in line for keyword in freq_keyword):\n",
    "                if line.startswith(freq_keyword[0]):\n",
    "\n",
    "                    freq_line_ndx.append(line_number)\n",
    "                elif line.startswith('NORMAL MODES'):\n",
    "                    freq_line_ndx.append(line_number)\n",
    "                    \n",
    "        \n",
    "        infile.seek(0)\n",
    "        lines = infile.readlines()\n",
    "        freq_lines = lines[freq_line_ndx[0]+4:freq_line_ndx[1]-4]\n",
    "        fl = []\n",
    "        for v in freq_lines:\n",
    "            v = [float(word) for word in v.split() if is_float(word)]\n",
    "\n",
    "            fl.append(v[0])\n",
    "        negative_frequencies = [v for v in fl if v < 0]\n",
    "        if len(negative_frequencies) > 1:\n",
    "            print(\"WARNING: imaginary frequencies ({}) detected in geometry optimization file of {}\".format(negative_frequencies, f_name))\n",
    "            \n",
    "        else:\n",
    "            pass\n",
    "        \n",
    "        # get energy\n",
    "        infile.seek(0)\n",
    "        for line_number, line in enumerate(infile, start=1):\n",
    "            if any(keyword in line for keyword in search_keywords):\n",
    "                # Extract float values from the line\n",
    "                float_values = [float(word) for word in line.split() if is_float(word)]\n",
    "                #data_list[keyword] = float_values\n",
    "                d.append(float_values)\n",
    "                # Append data to the list\n",
    "                data_list.append({\n",
    "                    'Filename': f_name,\n",
    "                    'Line': line_number,\n",
    "                    'FloatValues': float_values\n",
    "                })\n",
    "\n",
    "    \n",
    "    if file_type == 'Opt':\n",
    "        energy_hartree = d[0][0]\n",
    "        free_energy_correction = d[1][0]\n",
    "        return energy_hartree, free_energy_correction, data_list\n",
    "    \n",
    "    else:\n",
    "        energy_hartree = d[0]\n",
    "        return energy_hartree, data_list"
   ]
  },
  {
   "cell_type": "code",
   "execution_count": 230,
   "id": "1de660e3",
   "metadata": {},
   "outputs": [
    {
     "name": "stdout",
     "output_type": "stream",
     "text": [
      "sss\n"
     ]
    },
    {
     "data": {
      "text/plain": [
       "(-31033.00991104,\n",
       " 0.25827689,\n",
       " [{'Filename': '/home/biswajit/Documents/Naman/analysis/sp/CN_6_opt.out',\n",
       "   'Line': 260166,\n",
       "   'FloatValues': [-31033.00991104]},\n",
       "  {'Filename': '/home/biswajit/Documents/Naman/analysis/sp/CN_6_opt.out',\n",
       "   'Line': 260169,\n",
       "   'FloatValues': [0.25827689, 162.07]}])"
      ]
     },
     "execution_count": 230,
     "metadata": {},
     "output_type": "execute_result"
    }
   ],
   "source": [
    "extract_data_from_orca_output(directory = '/home/biswajit/Documents/Naman/analysis/sp', output_csv_name = 'output_csv', \\\n",
    "                            file_name='CN_6', file_type ='Opt')"
   ]
  },
  {
   "cell_type": "code",
   "execution_count": 184,
   "id": "174f7d1d",
   "metadata": {},
   "outputs": [],
   "source": [
    "def get_bfe_from_orca(reactant = ['UO2_5water', 'P2A'], reactant_unit = [1,2], \\\n",
    "            product = ['CN_5', 'water_4'], product_unit = [1, 1], \\\n",
    "            directory = '/home/biswajit/Documents/Naman/analysis/sp', corrected_bfe = True, unit = 'kJ/mol'):\n",
    "    \n",
    "    \n",
    "    \"\"\"\n",
    "    reactant: file name of orca-generated output files for the reactants. mention name without _sp.out or _opt.out\n",
    "    product: file name of orca-generated output files for the products. mention name without _sp.out or _opt.out\n",
    "    \n",
    "    NOTE: \n",
    "    the input file name must end with '_sp' and '_opt' for single point and geometry optimization \n",
    "    output files, respectively.\n",
    "    \n",
    "    reactant_unit = the stoichiometry (of reactants) for the reaction in array form.\n",
    "    product_unit = the stoichiometry (of products) for the reaction in array form.\n",
    "    \n",
    "    corrected_bfe = if set to True, free energy corrected binding energy will be computed. \n",
    "    Please ensure geometry opt files are present in the same directory for this computations\n",
    "    \n",
    "    unit: unit of binding free energy. either kcal/mol or kJ/mol \n",
    "    \n",
    "    \n",
    "    \"\"\"\n",
    "    energies = []\n",
    "    \n",
    "    if corrected_bfe:\n",
    "        for each in (reactant + product):\n",
    "            energy_hartree, _ = extract_data_from_orca_output(directory = directory, \\\n",
    "                                file_name=each, file_type ='SP')\n",
    "\n",
    "            e, correction, d = extract_data_from_orca_output(directory = directory, \\\n",
    "                                file_name=each, file_type ='Opt')\n",
    "            \n",
    "            energy_hartree = energy_hartree[0] + correction\n",
    "\n",
    "\n",
    "            energies.append([energy_hartree])\n",
    "    else:\n",
    "        \n",
    "        for each in (reactant + product):\n",
    "            energy_hartree, _ = extract_data_from_orca_output(directory = '/home/biswajit/Documents/Naman/analysis/sp', output_csv_name = 'output_csv', \\\n",
    "                                file_name=each, file_type ='SP')\n",
    "\n",
    "            energies.append(energy_hartree)\n",
    "        \n",
    "    all_sp = reactant + product\n",
    "    \n",
    "    r_sum = 0\n",
    "    for _ in range(len(reactant_unit)):\n",
    "        r_sum += reactant_unit[_]*energies[_][0]\n",
    "    \n",
    "    p_sum = 0\n",
    "    for _ in range(len(product_unit)):\n",
    "        val = len(reactant_unit) + _\n",
    "        p_sum += product_unit[_] * energies[val][0]\n",
    "        \n",
    "    if unit == 'kJ/mol':  \n",
    "        bfe = ((p_sum - r_sum)*627.5095)*4.18\n",
    "    elif unit == 'kcal/mol':\n",
    "        bfe = ((p_sum - r_sum)*627.5095)\n",
    "          \n",
    "    return bfe"
   ]
  },
  {
   "cell_type": "code",
   "execution_count": 185,
   "id": "a23239bf",
   "metadata": {},
   "outputs": [
    {
     "data": {
      "text/plain": [
       "541.056004502179"
      ]
     },
     "execution_count": 185,
     "metadata": {},
     "output_type": "execute_result"
    }
   ],
   "source": [
    "get_bfe_from_orca(reactant = ['UO2_5water', 'P2A'], reactant_unit = [1,2], \\\n",
    "            product = ['CN_4', 'water_5'], product_unit = [1,1], \\\n",
    "            directory = '/home/biswajit/Documents/Naman/analysis/sp', corrected_bfe = True, unit = 'kcal/mol')"
   ]
  },
  {
   "cell_type": "code",
   "execution_count": null,
   "id": "64864777",
   "metadata": {},
   "outputs": [],
   "source": []
  }
 ],
 "metadata": {
  "kernelspec": {
   "display_name": "priyo",
   "language": "python",
   "name": "priyo"
  },
  "language_info": {
   "codemirror_mode": {
    "name": "ipython",
    "version": 3
   },
   "file_extension": ".py",
   "mimetype": "text/x-python",
   "name": "python",
   "nbconvert_exporter": "python",
   "pygments_lexer": "ipython3",
   "version": "3.9.16"
  }
 },
 "nbformat": 4,
 "nbformat_minor": 5
}
